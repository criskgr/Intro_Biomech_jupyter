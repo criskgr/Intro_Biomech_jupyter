{
 "cells": [
  {
   "cell_type": "code",
   "execution_count": 21,
   "metadata": {
    "collapsed": true
   },
   "outputs": [],
   "source": [
    "% matplotlib inline\n",
    "import numpy\n",
    "import math\n",
    "import matplotlib.pyplot as plt"
   ]
  },
  {
   "cell_type": "markdown",
   "metadata": {},
   "source": [
    "Create a Heaviside function"
   ]
  },
  {
   "cell_type": "code",
   "execution_count": 22,
   "metadata": {
    "collapsed": true
   },
   "outputs": [],
   "source": [
    "def Heaviside(x):\n",
    "    H = numpy.zeros(len(x))\n",
    "    for i in range(len(x)):\n",
    "        if x[i] < 0.:\n",
    "            H[i] = 0.\n",
    "        else:\n",
    "            H[i] = 1.\n",
    "    return H"
   ]
  },
  {
   "cell_type": "markdown",
   "metadata": {},
   "source": [
    "Check your Heaviside function.  Try different values here - remember, the desired output is `Heaviside(x) = 0` if  $x<0$, and `Heaviside(x) = 1` if $x>0$."
   ]
  },
  {
   "cell_type": "code",
   "execution_count": 23,
   "metadata": {},
   "outputs": [
    {
     "name": "stdout",
     "output_type": "stream",
     "text": [
      "[ 1.  0.  1.]\n"
     ]
    }
   ],
   "source": [
    "print (Heaviside([3., -2., 0.]))"
   ]
  },
  {
   "cell_type": "markdown",
   "metadata": {},
   "source": [
    "----\n",
    "Set material parameters (feel free to experiment!)"
   ]
  },
  {
   "cell_type": "code",
   "execution_count": 24,
   "metadata": {
    "collapsed": true
   },
   "outputs": [],
   "source": [
    "E0 = 500. # MPa\n",
    "E1 = 500. # MPa\n",
    "tau = 10.# s"
   ]
  },
  {
   "cell_type": "markdown",
   "metadata": {},
   "source": [
    "Set load parameters (feel free to experiment!)"
   ]
  },
  {
   "cell_type": "code",
   "execution_count": 25,
   "metadata": {
    "collapsed": true
   },
   "outputs": [],
   "source": [
    "# load s1 is applied at t1\n",
    "t1 = 0.\n",
    "s1 = 7.\n",
    "# load s2 is applied at t2\n",
    "t2 = 5.\n",
    "s2 = 0.\n",
    "# load s3 is applied at t3\n",
    "s3 = -7.\n",
    "t3 = 10.\n",
    "\n",
    "# results will be shown up to final time T\n",
    "T = 100."
   ]
  },
  {
   "cell_type": "markdown",
   "metadata": {},
   "source": [
    "Calculate appropriate step size and generate list of time points, then calculate stress values at each point"
   ]
  },
  {
   "cell_type": "code",
   "execution_count": 26,
   "metadata": {},
   "outputs": [],
   "source": [
    "dt = T/1000.\n",
    "t = numpy.arange(0., T, dt)\n",
    "\n",
    "sig1 = s1*Heaviside(t-t1)\n",
    "sig2 = s2*Heaviside(t-t2)\n",
    "sig3 = s3*Heaviside(t-t3)"
   ]
  },
  {
   "cell_type": "code",
   "execution_count": 27,
   "metadata": {},
   "outputs": [
    {
     "data": {
      "text/plain": [
       "[-1.0, 100.0, -1.0, 10.0]"
      ]
     },
     "execution_count": 27,
     "metadata": {},
     "output_type": "execute_result"
    },
    {
     "data": {
      "image/png": "[encoded data removed]",
      "text/plain": [
       "<matplotlib.figure.Figure at 0x10d635050>"
      ]
     },
     "metadata": {},
     "output_type": "display_data"
    }
   ],
   "source": [
    "sig = sig1+sig2+sig3\n",
    "plt.figure()\n",
    "plt.plot([0.,0.],[0.,sig[0]],'k-')\n",
    "plt.plot(t,sig,'k-')\n",
    "plt.xlabel('time [s]')\n",
    "plt.ylabel('stress [MPa]')\n",
    "plt.axis([-1., T, -1., 10.])"
   ]
  },
  {
   "cell_type": "markdown",
   "metadata": {},
   "source": [
    "Considering the loads separately, find their creep response.  Note that the Heaviside equation is contained in the definition of `sig1`, `sig2`, and `sig3`, so you can add them up directly. (Feel free to change these equations - say, to try out a Maxwell or Voigt or Burger's model instead of an SLS model.)"
   ]
  },
  {
   "cell_type": "code",
   "execution_count": 29,
   "metadata": {
    "collapsed": true
   },
   "outputs": [],
   "source": [
    "eps1 = numpy.zeros(len(t))\n",
    "eps2 = numpy.zeros(len(t))\n",
    "eps3 = numpy.zeros(len(t))\n",
    "\n",
    "for i in range(len(t)):\n",
    "    eps1[i] = sig1[i]/E1*(1. - (E0/(E0+E1))*math.exp(-(t[i]-t1)/tau))\n",
    "    eps2[i] = sig2[i]/E1*(1. - (E0/(E0+E1))*math.exp(-(t[i]-t2)/tau))\n",
    "    eps3[i] = sig3[i]/E1*(1. - (E0/(E0+E1))*math.exp(-(t[i]-t3)/tau))"
   ]
  },
  {
   "cell_type": "code",
   "execution_count": 30,
   "metadata": {},
   "outputs": [
    {
     "data": {
      "text/plain": [
       "[-1.0, 100.0, -0.015, 0.015]"
      ]
     },
     "execution_count": 30,
     "metadata": {},
     "output_type": "execute_result"
    },
    {
     "data": {
      "image/png": "[encoded data removed]",
      "text/plain": [
       "<matplotlib.figure.Figure at 0x106e86a10>"
      ]
     },
     "metadata": {},
     "output_type": "display_data"
    }
   ],
   "source": [
    "plt.figure()\n",
    "plt.plot([0.,0.],[0.,eps1[0]],'r-')\n",
    "plt.plot(t,eps1,'r-')\n",
    "plt.plot(t,eps2,'b-')\n",
    "plt.plot(t,eps3,'g-')\n",
    "plt.xlabel('time [s]')\n",
    "plt.ylabel('strain [-]')\n",
    "plt.axis([-1., T, -0.015, 0.015])"
   ]
  },
  {
   "cell_type": "markdown",
   "metadata": {},
   "source": [
    "Sum the strain responses together to get the total response."
   ]
  },
  {
   "cell_type": "code",
   "execution_count": 31,
   "metadata": {
    "scrolled": true
   },
   "outputs": [
    {
     "data": {
      "text/plain": [
       "[-1.0, 100.0, 0.0, 0.015]"
      ]
     },
     "execution_count": 31,
     "metadata": {},
     "output_type": "execute_result"
    },
    {
     "data": {
      "image/png": "[encoded data removed]",
      "text/plain": [
       "<matplotlib.figure.Figure at 0x10940ef50>"
      ]
     },
     "metadata": {},
     "output_type": "display_data"
    }
   ],
   "source": [
    "eps = eps1 + eps2 + eps3\n",
    "plt.figure()\n",
    "plt.plot([0.,0.],[0.,eps[0]],'k-')\n",
    "plt.plot(t,eps,'k-')\n",
    "plt.xlabel('time [s]')\n",
    "plt.ylabel('strain [-]')\n",
    "plt.axis([-1., T, 0., 0.015])"
   ]
  },
  {
   "cell_type": "markdown",
   "metadata": {},
   "source": [
    "Now let's look at the stress-strain curve."
   ]
  },
  {
   "cell_type": "code",
   "execution_count": 32,
   "metadata": {},
   "outputs": [
    {
     "data": {
      "text/plain": [
       "[-0.001, 0.015, -1.0, 9.0]"
      ]
     },
     "execution_count": 32,
     "metadata": {},
     "output_type": "execute_result"
    },
    {
     "data": {
      "image/png": "[encoded data removed]",
      "text/plain": [
       "<matplotlib.figure.Figure at 0x10bf11950>"
      ]
     },
     "metadata": {},
     "output_type": "display_data"
    }
   ],
   "source": [
    "plt.figure()\n",
    "plt.plot([0.,eps[0]],[0.,sig[0]],'k-')\n",
    "plt.xlabel('strain [-]')\n",
    "plt.ylabel('stress [MPa]')\n",
    "plt.plot(eps,sig,'k-')\n",
    "plt.axis([-0.001, 0.015, -1., 9.])"
   ]
  }
 ],
 "metadata": {
  "kernelspec": {
   "display_name": "Python 3",
   "language": "python",
   "name": "python3"
  },
  "language_info": {
   "codemirror_mode": {
    "name": "ipython",
    "version": 2
   },
   "file_extension": ".py",
   "mimetype": "text/x-python",
   "name": "python",
   "nbconvert_exporter": "python",
   "pygments_lexer": "ipython2",
   "version": "2.7.10"
  }
 },
 "nbformat": 4,
 "nbformat_minor": 2
}
