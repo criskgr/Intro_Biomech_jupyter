{
 "cells": [
  {
   "cell_type": "code",
   "execution_count": 2,
   "metadata": {
    "collapsed": true
   },
   "outputs": [],
   "source": [
    "import numpy\n",
    "import math\n",
    "import matplotlib.pyplot as plt"
   ]
  },
  {
   "cell_type": "markdown",
   "metadata": {},
   "source": [
    "Single Limb Stance\n",
    "-------"
   ]
  },
  {
   "cell_type": "code",
   "execution_count": 2,
   "metadata": {
    "collapsed": true
   },
   "outputs": [],
   "source": [
    "c = 0.53 # H\n",
    "b = 0.447*c # H\n",
    "a = 0.05 # H\n",
    "alpha = 45.*math.pi/180. # rad\n",
    "beta = 80.*math.pi/180. # rad\n",
    "theta = 70.*math.pi/180. # rad\n",
    "W_B = 1.0  # W_B\n",
    "W_L = 0.161 # W_B"
   ]
  },
  {
   "cell_type": "code",
   "execution_count": 3,
   "metadata": {},
   "outputs": [
    {
     "name": "stdout",
     "output_type": "stream",
     "text": [
      "F_muscle = 2.64 W_B\n",
      "F_joint = 3.44 W_B at an angle of 75 degrees\n"
     ]
    }
   ],
   "source": [
    "num = (W_B - W_L)*a*math.cos(alpha) + (W_L*b - W_B*c)*math.cos(beta)\n",
    "den = a*(math.cos(theta)*math.sin(alpha) - math.sin(theta)*math.cos(alpha))\n",
    "Fm = num/den\n",
    "Fj_x = Fm*math.cos(theta)\n",
    "Fj_y = Fm*math.sin(theta) - W_L + W_B\n",
    "Fj = math.sqrt(Fj_x**2. + Fj_y**2.)\n",
    "gam = math.atan(Fj_y / Fj_x)*180./math.pi\n",
    "\n",
    "print ('F_muscle = %.2f W_B' %Fm)\n",
    "print ('F_joint = %.2f W_B at an angle of %.0f degrees' %(Fj,gam))"
   ]
  },
  {
   "cell_type": "markdown",
   "metadata": {},
   "source": [
    "Shoulder extension\n",
    "--------"
   ]
  },
  {
   "cell_type": "code",
   "execution_count": 3,
   "metadata": {},
   "outputs": [],
   "source": [
    "a = 0.1 # H \n",
    "b = 0.23 # H \n",
    "c = 0.386 # H \n",
    "theta = 15.*math.pi/180. # rad\n",
    "W_A = 40. # N\n",
    "W_W = 60. # N"
   ]
  },
  {
   "cell_type": "code",
   "execution_count": 4,
   "metadata": {},
   "outputs": [
    {
     "name": "stdout",
     "output_type": "stream",
     "text": [
      "F_muscle = 1250.29 N\n",
      "F_joint = 1228.22 N at an angle of 10 degrees\n"
     ]
    }
   ],
   "source": [
    "Fm = (W_A*b + W_W*c)/(a*math.sin(theta))\n",
    "Fj_x = Fm*math.cos(theta)\n",
    "Fj_y = Fm*math.sin(theta) - W_A - W_W\n",
    "Fj = math.sqrt(Fj_x**2. + Fj_y**2.)\n",
    "gam = math.atan(Fj_y / Fj_x)*180./math.pi\n",
    "\n",
    "print ('F_muscle = %.2f N' %Fm)\n",
    "print ('F_joint = %.2f N at an angle of %.0f degrees' %(Fj,gam))"
   ]
  },
  {
   "cell_type": "markdown",
   "metadata": {},
   "source": [
    "Elbow flexion\n",
    "--------"
   ]
  },
  {
   "cell_type": "code",
   "execution_count": 6,
   "metadata": {
    "collapsed": true
   },
   "outputs": [],
   "source": [
    "d_BB = 0.02 # H\n",
    "d_BR = 0.02 # H\n",
    "d_BRD = 0.11 # H\n",
    "a = 0.17 # H\n",
    "b = 0.2 # H\n",
    "t_BB = 80.*math.pi/180. # rad\n",
    "t_BR = 65.*math.pi/180. # rad\n",
    "t_BRD = 22.*math.pi/180. # rad\n",
    "W_A = 17.6 # N\n",
    "W_W = 60. # N"
   ]
  },
  {
   "cell_type": "code",
   "execution_count": 7,
   "metadata": {},
   "outputs": [
    {
     "name": "stdout",
     "output_type": "stream",
     "text": [
      "F_BB = 761.16 N\n",
      "F_joint = 684.88 N at an angle of 79 degrees\n"
     ]
    }
   ],
   "source": [
    "# Assuming only the Biceps Brachii acts\n",
    "F_BR = 0.\n",
    "F_BB = (a*W_A + b*W_W)/(d_BB * math.sin(t_BB))\n",
    "F_BRD = 0.\n",
    "\n",
    "Fj_x = F_BR*math.cos(t_BR) + F_BB*math.cos(t_BB) + F_BRD*math.cos(t_BRD) \n",
    "Fj_y = F_BR*math.sin(t_BR) + F_BB*math.sin(t_BB) + F_BRD*math.sin(t_BRD) - W_A - W_W\n",
    "Fj = math.sqrt(Fj_x**2. + Fj_y**2.)\n",
    "gam = math.atan(Fj_y / Fj_x)*180./math.pi\n",
    "\n",
    "print ('F_BB = %.2f N' %F_BB)\n",
    "print ('F_joint = %.2f N at an angle of %.0f degrees' %(Fj,gam))"
   ]
  },
  {
   "cell_type": "code",
   "execution_count": 8,
   "metadata": {},
   "outputs": [
    {
     "name": "stdout",
     "output_type": "stream",
     "text": [
      "F_BR = 827.09 N\n",
      "F_joint = 757.47 N at an angle of 63 degrees\n"
     ]
    }
   ],
   "source": [
    "# Assuming only the Brachialis acts\n",
    "F_BR = (a*W_A + b*W_W)/(d_BR * math.sin(t_BR))\n",
    "F_BB = 0.\n",
    "F_BRD = 0.\n",
    "\n",
    "Fj_x = F_BR*math.cos(t_BR) + F_BB*math.cos(t_BB) + F_BRD*math.cos(t_BRD) \n",
    "Fj_y = F_BR*math.sin(t_BR) + F_BB*math.sin(t_BB) + F_BRD*math.sin(t_BRD) - W_A - W_W\n",
    "Fj = math.sqrt(Fj_x**2. + Fj_y**2.)\n",
    "gam = math.atan(Fj_y / Fj_x)*180./math.pi\n",
    "\n",
    "print ('F_BR = %.2f N' %F_BR)\n",
    "print ('F_joint = %.2f N at an angle of %.0f degrees' %(Fj,gam))"
   ]
  },
  {
   "cell_type": "code",
   "execution_count": 9,
   "metadata": {},
   "outputs": [
    {
     "name": "stdout",
     "output_type": "stream",
     "text": [
      "F_BRD = 363.82 N\n",
      "F_joint = 342.40 N at an angle of 10 degrees\n"
     ]
    }
   ],
   "source": [
    "# Assuming only the Brachioradialis acts\n",
    "F_BR = 0.\n",
    "F_BB = 0.\n",
    "F_BRD = (a*W_A + b*W_W)/(d_BRD * math.sin(t_BRD))\n",
    "\n",
    "Fj_x = F_BR*math.cos(t_BR) + F_BB*math.cos(t_BB) + F_BRD*math.cos(t_BRD) \n",
    "Fj_y = F_BR*math.sin(t_BR) + F_BB*math.sin(t_BB) + F_BRD*math.sin(t_BRD) - W_A - W_W\n",
    "Fj = math.sqrt(Fj_x**2. + Fj_y**2.)\n",
    "gam = math.atan(Fj_y / Fj_x)*180./math.pi\n",
    "\n",
    "print ('F_BRD = %.2f N' %F_BRD)\n",
    "print ('F_joint = %.2f N at an angle of %.0f degrees' %(Fj,gam))"
   ]
  },
  {
   "cell_type": "code",
   "execution_count": 10,
   "metadata": {},
   "outputs": [
    {
     "name": "stdout",
     "output_type": "stream",
     "text": [
      "F_BR = 370.15 N\n",
      "F_BB = 210.78 N\n",
      "F_BRD = 100.25 N\n",
      "F_joint = 578.62 N at an angle of 60 degrees\n"
     ]
    }
   ],
   "source": [
    "# Assuming muscles all exert the same specific force (force per PCSA)\n",
    "PCSA_BB = 8.2 # cm^2\n",
    "PCSA_BR = 14.4 # cm^2\n",
    "PCSA_BRD = 3.9 # cm^2\n",
    "\n",
    "num = a*W_A + b*W_W\n",
    "den = PCSA_BR*d_BR*math.sin(t_BR) + PCSA_BB*d_BB*math.sin(t_BB) + PCSA_BRD*d_BRD*math.sin(t_BRD)\n",
    "f = num/den\n",
    "\n",
    "F_BR = f*PCSA_BR\n",
    "F_BB = f*PCSA_BB\n",
    "F_BRD = f*PCSA_BRD\n",
    "\n",
    "Fj_x = F_BR*math.cos(t_BR) + F_BB*math.cos(t_BB) + F_BRD*math.cos(t_BRD) \n",
    "Fj_y = F_BR*math.sin(t_BR) + F_BB*math.sin(t_BB) + F_BRD*math.sin(t_BRD) - W_A - W_W\n",
    "Fj = math.sqrt(Fj_x**2. + Fj_y**2.)\n",
    "gam = math.atan(Fj_y / Fj_x)*180./math.pi\n",
    "\n",
    "print ('F_BR = %.2f N' %F_BR)\n",
    "print ('F_BB = %.2f N' %F_BB)\n",
    "print ('F_BRD = %.2f N' %F_BRD)\n",
    "print ('F_joint = %.2f N at an angle of %.0f degrees' %(Fj,gam))"
   ]
  },
  {
   "cell_type": "code",
   "execution_count": null,
   "metadata": {
    "collapsed": true
   },
   "outputs": [],
   "source": [
    "# Assuming muscles all exert the same force\n",
    "num = a*W_A + b*W_W\n",
    "den = d_BR*math.sin(t_BR) + d_BB*math.sin(t_BB) + d_BRD*math.sin(t_BRD)\n",
    "f = num/den\n",
    "\n",
    "F_BR = f\n",
    "F_BB = f\n",
    "F_BRD = f\n",
    "\n",
    "Fj_x = F_BR*math.cos(t_BR) + F_BB*math.cos(t_BB) + F_BRD*math.cos(t_BRD) \n",
    "Fj_y = F_BR*math.sin(t_BR) + F_BB*math.sin(t_BB) + F_BRD*math.sin(t_BRD) - W_A - W_W\n",
    "Fj = math.sqrt(Fj_x**2. + Fj_y**2.)\n",
    "gam = math.atan(Fj_y / Fj_x)*180./math.pi\n",
    "\n",
    "print ('F_muscle = %.2f N' %f)\n",
    "print ('F_joint = %.2f N at an angle of %.0f degrees' %(Fj,gam))"
   ]
  },
  {
   "cell_type": "code",
   "execution_count": null,
   "metadata": {
    "collapsed": true
   },
   "outputs": [],
   "source": []
  }
 ],
 "metadata": {
  "kernelspec": {
   "display_name": "Python 3",
   "language": "python",
   "name": "python3"
  },
  "language_info": {
   "codemirror_mode": {
    "name": "ipython",
    "version": 2
   },
   "file_extension": ".py",
   "mimetype": "text/x-python",
   "name": "python",
   "nbconvert_exporter": "python",
   "pygments_lexer": "ipython2",
   "version": "2.7.10"
  }
 },
 "nbformat": 4,
 "nbformat_minor": 2
}
