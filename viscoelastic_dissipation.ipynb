{
 "cells": [
  {
   "cell_type": "code",
   "execution_count": 1,
   "metadata": {
    "collapsed": true
   },
   "outputs": [],
   "source": [
    "% matplotlib inline\n",
    "import numpy\n",
    "import math\n",
    "import matplotlib.pyplot as plt"
   ]
  },
  {
   "cell_type": "code",
   "execution_count": 2,
   "metadata": {
    "collapsed": true
   },
   "outputs": [],
   "source": [
    "def Heaviside(x):\n",
    "    H = numpy.zeros(len(x))\n",
    "    for i in range(len(x)):\n",
    "        if x[i] < 0.:\n",
    "            H[i] = 0.\n",
    "        else:\n",
    "            H[i] = 1.\n",
    "    return H"
   ]
  },
  {
   "cell_type": "markdown",
   "metadata": {},
   "source": [
    "Consider a ramp strain loading followed by a ramp unloading on a material that is best described by the Standard Linear Solid model."
   ]
  },
  {
   "cell_type": "markdown",
   "metadata": {},
   "source": [
    "----\n",
    "Set material parameters:"
   ]
  },
  {
   "cell_type": "code",
   "execution_count": 88,
   "metadata": {
    "collapsed": true
   },
   "outputs": [],
   "source": [
    "E0 = 100. # MPa\n",
    "E1 = 100. # MPa\n",
    "eta = 100. # MPa*s\n",
    "\n",
    "tau_eps = eta/E0\n",
    "tau_sig = eta*(E0+E1)/(E0*E1)\n",
    "ER = E1"
   ]
  },
  {
   "cell_type": "markdown",
   "metadata": {},
   "source": [
    "Set load parameters:"
   ]
  },
  {
   "cell_type": "code",
   "execution_count": 137,
   "metadata": {
    "collapsed": true
   },
   "outputs": [],
   "source": [
    "t2 = 2. # s\n",
    "v = 0.5/t2 # s^-1\n",
    "\n",
    "\n",
    "dt = t2/50.\n",
    "t = numpy.arange(0., 3.*t2, dt)"
   ]
  },
  {
   "cell_type": "markdown",
   "metadata": {},
   "source": [
    "Come up with two stress loads that, added together, create the desired profile."
   ]
  },
  {
   "cell_type": "code",
   "execution_count": 138,
   "metadata": {
    "collapsed": true
   },
   "outputs": [],
   "source": [
    "eps1 =  v*t - v*(t-t2)*Heaviside(t-t2)\n",
    "eps2 = -v*(t-t2)*Heaviside(t-t2)\n",
    "eps = eps1 + eps2"
   ]
  },
  {
   "cell_type": "code",
   "execution_count": 139,
   "metadata": {},
   "outputs": [
    {
     "data": {
      "text/plain": [
       "<matplotlib.text.Text at 0x10fa5d0d0>"
      ]
     },
     "execution_count": 139,
     "metadata": {},
     "output_type": "execute_result"
    },
    {
     "data": {
      "image/png": "[encoded data removed]",
      "text/plain": [
       "<matplotlib.figure.Figure at 0x10f677a90>"
      ]
     },
     "metadata": {},
     "output_type": "display_data"
    }
   ],
   "source": [
    "plt.figure()\n",
    "plt.plot(t,eps1,'r-')\n",
    "plt.plot(t,eps2,'b-')\n",
    "plt.plot([0.,2.*t2],[0.,0.],'k--')\n",
    "plt.xlabel('time [s]')\n",
    "plt.ylabel('strain [-]')"
   ]
  },
  {
   "cell_type": "code",
   "execution_count": 140,
   "metadata": {
    "scrolled": true
   },
   "outputs": [
    {
     "data": {
      "text/plain": [
       "<matplotlib.text.Text at 0x10fbb3610>"
      ]
     },
     "execution_count": 140,
     "metadata": {},
     "output_type": "execute_result"
    },
    {
     "data": {
      "image/png": "[encoded data removed]",
      "text/plain": [
       "<matplotlib.figure.Figure at 0x10f908dd0>"
      ]
     },
     "metadata": {},
     "output_type": "display_data"
    }
   ],
   "source": [
    "plt.figure()\n",
    "plt.plot(t,eps,'k-')\n",
    "plt.plot([0.,2.*t2],[0.,0.],'k--')\n",
    "plt.xlabel('time [s]')\n",
    "plt.ylabel('strain [-]')"
   ]
  },
  {
   "cell_type": "markdown",
   "metadata": {},
   "source": [
    "Considering the loads separately, find their creep response."
   ]
  },
  {
   "cell_type": "code",
   "execution_count": 141,
   "metadata": {},
   "outputs": [],
   "source": [
    "sig1 = numpy.zeros(len(t))\n",
    "sig2 = numpy.zeros(len(t))\n",
    "\n",
    "c = v*(ER*(t2 + (tau_sig - tau_eps)*(1. - math.exp(-t2/tau_eps))) - E1*t2)/(math.exp(-t2/tau_eps))\n",
    "\n",
    "for i in range(len(t)):\n",
    "    if t[i] <= t2: \n",
    "        sig1[i] = ER*v*(t[i] + (tau_sig - tau_eps)*(1. - math.exp(-t[i]/tau_eps)))\n",
    "    else: \n",
    "        sig1[i] = c*math.exp(-(t[i])/tau_eps) + E1*v*t2\n",
    "        sig2[i] = ER*v*(-(t[i]-t2) - (tau_sig - tau_eps)*(1. - math.exp(-(t[i]-t2)/tau_eps)))\n",
    "\n",
    "sig = sig1 + sig2"
   ]
  },
  {
   "cell_type": "code",
   "execution_count": 142,
   "metadata": {},
   "outputs": [
    {
     "data": {
      "text/plain": [
       "<matplotlib.text.Text at 0x10fa53b90>"
      ]
     },
     "execution_count": 142,
     "metadata": {},
     "output_type": "execute_result"
    },
    {
     "data": {
      "image/png": "[encoded data removed]",
      "text/plain": [
       "<matplotlib.figure.Figure at 0x10f77e390>"
      ]
     },
     "metadata": {},
     "output_type": "display_data"
    }
   ],
   "source": [
    "plt.figure()\n",
    "plt.plot(t,sig1,'r-')\n",
    "plt.plot(t,sig2,'b-')\n",
    "plt.xlabel('time [s]')\n",
    "plt.ylabel('stress [MPa]')\n",
    "# plt.axis([150., 250., 45., 55.])"
   ]
  },
  {
   "cell_type": "code",
   "execution_count": 125,
   "metadata": {},
   "outputs": [
    {
     "data": {
      "text/plain": [
       "<matplotlib.text.Text at 0x10f009590>"
      ]
     },
     "execution_count": 125,
     "metadata": {},
     "output_type": "execute_result"
    },
    {
     "data": {
      "image/png": "[encoded data removed]",
      "text/plain": [
       "<matplotlib.figure.Figure at 0x10ee5f390>"
      ]
     },
     "metadata": {},
     "output_type": "display_data"
    }
   ],
   "source": [
    "plt.figure()\n",
    "plt.plot(t,sig,'k-')\n",
    "plt.xlabel('time [s]')\n",
    "plt.ylabel('stress [MPa]')"
   ]
  },
  {
   "cell_type": "code",
   "execution_count": 126,
   "metadata": {},
   "outputs": [
    {
     "data": {
      "text/plain": [
       "<matplotlib.text.Text at 0x10f0e67d0>"
      ]
     },
     "execution_count": 126,
     "metadata": {},
     "output_type": "execute_result"
    },
    {
     "data": {
      "image/png": "[encoded data removed]",
      "text/plain": [
       "<matplotlib.figure.Figure at 0x10ee90bd0>"
      ]
     },
     "metadata": {},
     "output_type": "display_data"
    }
   ],
   "source": [
    "plt.figure()\n",
    "plt.plot(eps,sig,'k-')\n",
    "plt.xlabel('strain [-]')\n",
    "plt.ylabel('stress [MPa]')"
   ]
  },
  {
   "cell_type": "code",
   "execution_count": null,
   "metadata": {
    "collapsed": true
   },
   "outputs": [],
   "source": []
  },
  {
   "cell_type": "code",
   "execution_count": null,
   "metadata": {
    "collapsed": true
   },
   "outputs": [],
   "source": []
  }
 ],
 "metadata": {
  "kernelspec": {
   "display_name": "Python 3",
   "language": "python",
   "name": "python3"
  },
  "language_info": {
   "codemirror_mode": {
    "name": "ipython",
    "version": 2
   },
   "file_extension": ".py",
   "mimetype": "text/x-python",
   "name": "python",
   "nbconvert_exporter": "python",
   "pygments_lexer": "ipython2",
   "version": "2.7.10"
  }
 },
 "nbformat": 4,
 "nbformat_minor": 2
}
